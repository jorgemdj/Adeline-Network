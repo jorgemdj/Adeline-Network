{
  "nbformat": 4,
  "nbformat_minor": 0,
  "metadata": {
    "colab": {
      "provenance": [],
      "authorship_tag": "ABX9TyOU0mzzbsWyma3AN1VKBofp",
      "include_colab_link": true
    },
    "kernelspec": {
      "name": "python3",
      "display_name": "Python 3"
    },
    "language_info": {
      "name": "python"
    }
  },
  "cells": [
    {
      "cell_type": "markdown",
      "metadata": {
        "id": "view-in-github",
        "colab_type": "text"
      },
      "source": [
        "<a href=\"https://colab.research.google.com/github/jorgemdj/Adeline-Network/blob/main/Adeline_Network.ipynb\" target=\"_parent\"><img src=\"https://colab.research.google.com/assets/colab-badge.svg\" alt=\"Open In Colab\"/></a>"
      ]
    },
    {
      "cell_type": "code",
      "execution_count": 1,
      "metadata": {
        "id": "ZzcDe5xjf1t5"
      },
      "outputs": [],
      "source": [
        "import pandas as pd\n",
        "import numpy as np\n",
        "import matplotlib.pyplot as plt\n",
        "\n",
        "data = pd.read_excel('/content/Tabela#Seção4.6_RNA.xls')"
      ]
    },
    {
      "cell_type": "code",
      "source": [
        "#setting entrance parameters\n",
        "\n",
        "entrance = np.array(data.drop('d', axis=1))\n",
        "exit = np.array(data.drop(['x1','x2','x3','x4'], axis=1))"
      ],
      "metadata": {
        "id": "cmRz5Q2rjv58"
      },
      "execution_count": 2,
      "outputs": []
    },
    {
      "cell_type": "code",
      "source": [
        "#addding a [-1] collumn to X sheets to use W[0] as a random limiar activation as a sum of other random determined numbers W[i]+...+W[n]\n",
        "\n",
        "X = np.hstack((np.ones_like(exit)*(-1),entrance))\n",
        "Y = exit\n",
        "\n",
        "input_neurons = X.shape[1]\n",
        "output_neurons = 1\n",
        "\n",
        "#adding seed to analyze results\n",
        "np.random.seed(12)\n",
        "W = np.random.random_sample((output_neurons,input_neurons)).T\n",
        "print(W)"
      ],
      "metadata": {
        "colab": {
          "base_uri": "https://localhost:8080/"
        },
        "id": "DslDKDWOkZRl",
        "outputId": "9312cca1-5eda-4cc9-9494-61244e3618ce"
      },
      "execution_count": 33,
      "outputs": [
        {
          "output_type": "stream",
          "name": "stdout",
          "text": [
            "[[0.15416284]\n",
            " [0.7400497 ]\n",
            " [0.26331502]\n",
            " [0.53373939]\n",
            " [0.01457496]]\n"
          ]
        }
      ]
    },
    {
      "cell_type": "code",
      "source": [
        "def adeline_training(x, y, learning_rate, epsilon, W):\n",
        "\n",
        "  epoch = 0\n",
        "  Eqm = 0\n",
        "\n",
        "  #setting random values of Enew and Eold just to start the loop\n",
        "  Enew = 1000\n",
        "  Eold = 0\n",
        "\n",
        "  ycaret_vec = np.zeros_like(Y)\n",
        "\n",
        "  #defining global variables to use out of the function (in the graph and to get traned W)\n",
        "  global epochs, EQM, W_test\n",
        "\n",
        "  #Getting x and y label for the future graph\n",
        "  epochs = []\n",
        "  EQM = []\n",
        "\n",
        "  while abs(Enew - Eold) > epsilon:\n",
        "    Eold = Eqm\n",
        "\n",
        "\n",
        "    for i in range(y.shape[0]):\n",
        "\n",
        "      #Sum Input Data:\n",
        "      u = np.dot(x[i], W)\n",
        "\n",
        "      if u > 0:\n",
        "        ycaret_vec[i] = 1\n",
        "      else:\n",
        "        ycaret_vec[i] = -1\n",
        "\n",
        "      #Updating of weights:\n",
        "      W = (W.T + learning_rate*(y[i]-u)*x[i]).T\n",
        "\n",
        "\n",
        "    Eqm = 0\n",
        "    for j in range(y.shape[0]):\n",
        "      u = np.dot(x[i], W)\n",
        "      Eqm = (Eqm + (y[i]-u)**2)/y.shape[0]\n",
        "\n",
        "\n",
        "    epoch += 1\n",
        "\n",
        "    epochs.append(epoch)\n",
        "    EQM.append(Eqm)\n",
        "\n",
        "\n",
        "    Enew = Eqm\n",
        "\n",
        "    error = 0\n",
        "\n",
        "    #Accounting for errors:\n",
        "    for i in range(0, Y.shape[0]):\n",
        "      if ycaret_vec[i] != Y[i]:\n",
        "        error += 1\n",
        "      else: continue\n",
        "\n",
        "    if int((epoch)%(15)) == 0:\n",
        "        print(f'Epoch:  [{epoch}] error: {error} / {Y.shape[0]} [{100*error/Y.shape[0]:.2f}% ]  EQM: {Eqm-Eold}')\n",
        "\n",
        "  #Getting W from the training\n",
        "  W_test = np.copy(W)\n",
        "  return W, epoch\n"
      ],
      "metadata": {
        "id": "fpEt8UTnkjNf"
      },
      "execution_count": 7,
      "outputs": []
    },
    {
      "cell_type": "code",
      "source": [
        "x = X\n",
        "y = Y\n",
        "learning_rate = 0.0025\n",
        "epsilon = 10**(-6)\n",
        "\n",
        "adeline_training(x, y, learning_rate, epsilon, W)"
      ],
      "metadata": {
        "colab": {
          "base_uri": "https://localhost:8080/"
        },
        "id": "sJlIJOjYo1Op",
        "outputId": "ab489a4d-24e2-42a8-8542-ab80e4d002e8"
      },
      "execution_count": 34,
      "outputs": [
        {
          "output_type": "stream",
          "name": "stdout",
          "text": [
            "Epoch:  [15] error: 11 / 35 [31.43% ]  EQM: [-0.0003289]\n",
            "Epoch:  [30] error: 9 / 35 [25.71% ]  EQM: [-0.00019976]\n",
            "Epoch:  [45] error: 8 / 35 [22.86% ]  EQM: [-0.00015485]\n",
            "Epoch:  [60] error: 8 / 35 [22.86% ]  EQM: [-0.00012456]\n",
            "Epoch:  [75] error: 7 / 35 [20.00% ]  EQM: [-0.00010069]\n",
            "Epoch:  [90] error: 7 / 35 [20.00% ]  EQM: [-8.14264805e-05]\n",
            "Epoch:  [105] error: 7 / 35 [20.00% ]  EQM: [-6.58180286e-05]\n",
            "Epoch:  [120] error: 5 / 35 [14.29% ]  EQM: [-5.31572837e-05]\n",
            "Epoch:  [135] error: 4 / 35 [11.43% ]  EQM: [-4.28792339e-05]\n",
            "Epoch:  [150] error: 2 / 35 [5.71% ]  EQM: [-3.45298981e-05]\n",
            "Epoch:  [165] error: 2 / 35 [5.71% ]  EQM: [-2.77436831e-05]\n",
            "Epoch:  [180] error: 2 / 35 [5.71% ]  EQM: [-2.22257732e-05]\n",
            "Epoch:  [195] error: 1 / 35 [2.86% ]  EQM: [-1.77381225e-05]\n",
            "Epoch:  [210] error: 1 / 35 [2.86% ]  EQM: [-1.40882754e-05]\n",
            "Epoch:  [225] error: 2 / 35 [5.71% ]  EQM: [-1.11204321e-05]\n",
            "Epoch:  [240] error: 2 / 35 [5.71% ]  EQM: [-8.70830167e-06]\n",
            "Epoch:  [255] error: 2 / 35 [5.71% ]  EQM: [-6.74937941e-06]\n",
            "Epoch:  [270] error: 2 / 35 [5.71% ]  EQM: [-5.1603592e-06]\n",
            "Epoch:  [285] error: 1 / 35 [2.86% ]  EQM: [-3.87345168e-06]\n",
            "Epoch:  [300] error: 1 / 35 [2.86% ]  EQM: [-2.83342556e-06]\n",
            "Epoch:  [315] error: 1 / 35 [2.86% ]  EQM: [-1.99522715e-06]\n",
            "Epoch:  [330] error: 1 / 35 [2.86% ]  EQM: [-1.32206246e-06]\n"
          ]
        },
        {
          "output_type": "execute_result",
          "data": {
            "text/plain": [
              "(array([[-1.41263133],\n",
              "        [ 1.23428518],\n",
              "        [ 1.42380489],\n",
              "        [-0.16815374],\n",
              "        [-1.02388462]]),\n",
              " 339)"
            ]
          },
          "metadata": {},
          "execution_count": 34
        }
      ]
    },
    {
      "cell_type": "code",
      "source": [
        "#Validation:\n",
        "\n",
        "test = pd.read_excel('/content/Tabela#4.3_RNA.xls')\n",
        "\n",
        "#Adding [-1] collumn as the training set\n",
        "entrance_test = np.array(test)\n",
        "X_test = np.hstack((np.ones((entrance_test.shape[0],1))*(-1),entrance_test))\n",
        "\n",
        "#Getting W from the training\n",
        "W_test"
      ],
      "metadata": {
        "colab": {
          "base_uri": "https://localhost:8080/"
        },
        "id": "qYyYNKhu2SOx",
        "outputId": "9b340844-6f4d-4a8f-c571-fd372bcda300"
      },
      "execution_count": 35,
      "outputs": [
        {
          "output_type": "execute_result",
          "data": {
            "text/plain": [
              "array([[-1.41263133],\n",
              "       [ 1.23428518],\n",
              "       [ 1.42380489],\n",
              "       [-0.16815374],\n",
              "       [-1.02388462]])"
            ]
          },
          "metadata": {},
          "execution_count": 35
        }
      ]
    },
    {
      "cell_type": "code",
      "source": [
        "#Answers:\n",
        "\n",
        "def matrix_bipolar_step(z: np.ndarray):\n",
        "  for i in range(z.shape[0]):\n",
        "    for j in range(z.shape[1]):\n",
        "      if z[i,j]>= 0:\n",
        "        z[i,j] = 1\n",
        "      else:\n",
        "        z[i,j] = -1\n",
        "  return z\n",
        "\n",
        "Y_test = np.dot(X_test,W_test)\n",
        "matrix_bipolar_step(Y_test)"
      ],
      "metadata": {
        "colab": {
          "base_uri": "https://localhost:8080/"
        },
        "id": "pxX1w0l739jw",
        "outputId": "e282fe23-48f5-486d-9e1b-5daea0dc5b64"
      },
      "execution_count": 36,
      "outputs": [
        {
          "output_type": "execute_result",
          "data": {
            "text/plain": [
              "array([[-1.],\n",
              "       [-1.],\n",
              "       [ 1.],\n",
              "       [-1.],\n",
              "       [-1.],\n",
              "       [ 1.],\n",
              "       [ 1.],\n",
              "       [ 1.],\n",
              "       [ 1.],\n",
              "       [-1.],\n",
              "       [-1.],\n",
              "       [ 1.],\n",
              "       [-1.],\n",
              "       [-1.],\n",
              "       [ 1.]])"
            ]
          },
          "metadata": {},
          "execution_count": 36
        }
      ]
    },
    {
      "cell_type": "code",
      "source": [
        "plt.plot(epochs, EQM, 'go')\n",
        "plt.ylabel('erro quadrático médio')\n",
        "plt.xlabel('epochs')\n",
        "plt.title('Erro Quadrático Médio por Época')"
      ],
      "metadata": {
        "colab": {
          "base_uri": "https://localhost:8080/",
          "height": 491
        },
        "id": "IgdiddCrIM_9",
        "outputId": "5fcc6996-e8ac-4fba-d8a6-791ad4110163"
      },
      "execution_count": 37,
      "outputs": [
        {
          "output_type": "execute_result",
          "data": {
            "text/plain": [
              "Text(0.5, 1.0, 'Erro Quadrático Médio por Época')"
            ]
          },
          "metadata": {},
          "execution_count": 37
        },
        {
          "output_type": "display_data",
          "data": {
            "text/plain": [
              "<Figure size 640x480 with 1 Axes>"
            ],
            "image/png": "[encoded data removed]"
          },
          "metadata": {}
        }
      ]
    }
  ]
}